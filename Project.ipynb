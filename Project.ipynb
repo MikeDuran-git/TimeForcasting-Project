{
 "cells": [
  {
   "cell_type": "markdown",
   "id": "b6b6fc01",
   "metadata": {},
   "source": [
    "# Introduction"
   ]
  },
  {
   "cell_type": "markdown",
   "id": "eefa327b",
   "metadata": {},
   "source": [
    "# Data Access"
   ]
  },
  {
   "cell_type": "code",
   "execution_count": 84,
   "id": "37a87409",
   "metadata": {},
   "outputs": [],
   "source": [
    "# librairies\n",
    "import numpy as np\n",
    "import pandas as pd\n",
    "import matplotlib.pyplot as plt\n",
    "from sklearn.linear_model import LinearRegression"
   ]
  },
  {
   "cell_type": "markdown",
   "id": "bb88bbd2",
   "metadata": {},
   "source": [
    "Les parties s’appliquent sur l’ensemble d’entraînement (donc **DailyDelhiClimateTrain.csv**)"
   ]
  },
  {
   "cell_type": "code",
   "execution_count": 76,
   "id": "93faad67",
   "metadata": {},
   "outputs": [
    {
     "data": {
      "text/html": [
       "<div>\n",
       "<style scoped>\n",
       "    .dataframe tbody tr th:only-of-type {\n",
       "        vertical-align: middle;\n",
       "    }\n",
       "\n",
       "    .dataframe tbody tr th {\n",
       "        vertical-align: top;\n",
       "    }\n",
       "\n",
       "    .dataframe thead th {\n",
       "        text-align: right;\n",
       "    }\n",
       "</style>\n",
       "<table border=\"1\" class=\"dataframe\">\n",
       "  <thead>\n",
       "    <tr style=\"text-align: right;\">\n",
       "      <th></th>\n",
       "      <th>date</th>\n",
       "      <th>meantemp</th>\n",
       "      <th>humidity</th>\n",
       "      <th>wind_speed</th>\n",
       "      <th>meanpressure</th>\n",
       "    </tr>\n",
       "  </thead>\n",
       "  <tbody>\n",
       "    <tr>\n",
       "      <th>0</th>\n",
       "      <td>2013-01-01</td>\n",
       "      <td>10.000000</td>\n",
       "      <td>84.500000</td>\n",
       "      <td>0.000000</td>\n",
       "      <td>1015.666667</td>\n",
       "    </tr>\n",
       "    <tr>\n",
       "      <th>1</th>\n",
       "      <td>2013-01-02</td>\n",
       "      <td>7.400000</td>\n",
       "      <td>92.000000</td>\n",
       "      <td>2.980000</td>\n",
       "      <td>1017.800000</td>\n",
       "    </tr>\n",
       "    <tr>\n",
       "      <th>2</th>\n",
       "      <td>2013-01-03</td>\n",
       "      <td>7.166667</td>\n",
       "      <td>87.000000</td>\n",
       "      <td>4.633333</td>\n",
       "      <td>1018.666667</td>\n",
       "    </tr>\n",
       "    <tr>\n",
       "      <th>3</th>\n",
       "      <td>2013-01-04</td>\n",
       "      <td>8.666667</td>\n",
       "      <td>71.333333</td>\n",
       "      <td>1.233333</td>\n",
       "      <td>1017.166667</td>\n",
       "    </tr>\n",
       "    <tr>\n",
       "      <th>4</th>\n",
       "      <td>2013-01-05</td>\n",
       "      <td>6.000000</td>\n",
       "      <td>86.833333</td>\n",
       "      <td>3.700000</td>\n",
       "      <td>1016.500000</td>\n",
       "    </tr>\n",
       "    <tr>\n",
       "      <th>...</th>\n",
       "      <td>...</td>\n",
       "      <td>...</td>\n",
       "      <td>...</td>\n",
       "      <td>...</td>\n",
       "      <td>...</td>\n",
       "    </tr>\n",
       "    <tr>\n",
       "      <th>1457</th>\n",
       "      <td>2016-12-28</td>\n",
       "      <td>17.217391</td>\n",
       "      <td>68.043478</td>\n",
       "      <td>3.547826</td>\n",
       "      <td>1015.565217</td>\n",
       "    </tr>\n",
       "    <tr>\n",
       "      <th>1458</th>\n",
       "      <td>2016-12-29</td>\n",
       "      <td>15.238095</td>\n",
       "      <td>87.857143</td>\n",
       "      <td>6.000000</td>\n",
       "      <td>1016.904762</td>\n",
       "    </tr>\n",
       "    <tr>\n",
       "      <th>1459</th>\n",
       "      <td>2016-12-30</td>\n",
       "      <td>14.095238</td>\n",
       "      <td>89.666667</td>\n",
       "      <td>6.266667</td>\n",
       "      <td>1017.904762</td>\n",
       "    </tr>\n",
       "    <tr>\n",
       "      <th>1460</th>\n",
       "      <td>2016-12-31</td>\n",
       "      <td>15.052632</td>\n",
       "      <td>87.000000</td>\n",
       "      <td>7.325000</td>\n",
       "      <td>1016.100000</td>\n",
       "    </tr>\n",
       "    <tr>\n",
       "      <th>1461</th>\n",
       "      <td>2017-01-01</td>\n",
       "      <td>10.000000</td>\n",
       "      <td>100.000000</td>\n",
       "      <td>0.000000</td>\n",
       "      <td>1016.000000</td>\n",
       "    </tr>\n",
       "  </tbody>\n",
       "</table>\n",
       "<p>1462 rows × 5 columns</p>\n",
       "</div>"
      ],
      "text/plain": [
       "            date   meantemp    humidity  wind_speed  meanpressure\n",
       "0     2013-01-01  10.000000   84.500000    0.000000   1015.666667\n",
       "1     2013-01-02   7.400000   92.000000    2.980000   1017.800000\n",
       "2     2013-01-03   7.166667   87.000000    4.633333   1018.666667\n",
       "3     2013-01-04   8.666667   71.333333    1.233333   1017.166667\n",
       "4     2013-01-05   6.000000   86.833333    3.700000   1016.500000\n",
       "...          ...        ...         ...         ...           ...\n",
       "1457  2016-12-28  17.217391   68.043478    3.547826   1015.565217\n",
       "1458  2016-12-29  15.238095   87.857143    6.000000   1016.904762\n",
       "1459  2016-12-30  14.095238   89.666667    6.266667   1017.904762\n",
       "1460  2016-12-31  15.052632   87.000000    7.325000   1016.100000\n",
       "1461  2017-01-01  10.000000  100.000000    0.000000   1016.000000\n",
       "\n",
       "[1462 rows x 5 columns]"
      ]
     },
     "execution_count": 76,
     "metadata": {},
     "output_type": "execute_result"
    }
   ],
   "source": [
    "data=pd.read_csv(\"./Data/DailyDelhiClimateTrain.csv\")\n",
    "data"
   ]
  },
  {
   "cell_type": "code",
   "execution_count": 77,
   "id": "09b7d566",
   "metadata": {},
   "outputs": [
    {
     "data": {
      "text/plain": [
       "date             object\n",
       "meantemp        float64\n",
       "humidity        float64\n",
       "wind_speed      float64\n",
       "meanpressure    float64\n",
       "dtype: object"
      ]
     },
     "execution_count": 77,
     "metadata": {},
     "output_type": "execute_result"
    }
   ],
   "source": [
    "#verifier les types des données:\n",
    "data.dtypes"
   ]
  },
  {
   "cell_type": "markdown",
   "id": "e991beda",
   "metadata": {},
   "source": [
    "nous allons convertir la colonne date, en format de date"
   ]
  },
  {
   "cell_type": "code",
   "execution_count": 78,
   "id": "a1bb8318",
   "metadata": {},
   "outputs": [
    {
     "data": {
      "text/plain": [
       "(1462, 5)"
      ]
     },
     "execution_count": 78,
     "metadata": {},
     "output_type": "execute_result"
    }
   ],
   "source": [
    "#verifier que le dataset ne contient pas de contenu vide.\n",
    "data.dropna().shape"
   ]
  },
  {
   "cell_type": "code",
   "execution_count": 79,
   "id": "a083cdb7",
   "metadata": {},
   "outputs": [
    {
     "data": {
      "text/html": [
       "<div>\n",
       "<style scoped>\n",
       "    .dataframe tbody tr th:only-of-type {\n",
       "        vertical-align: middle;\n",
       "    }\n",
       "\n",
       "    .dataframe tbody tr th {\n",
       "        vertical-align: top;\n",
       "    }\n",
       "\n",
       "    .dataframe thead th {\n",
       "        text-align: right;\n",
       "    }\n",
       "</style>\n",
       "<table border=\"1\" class=\"dataframe\">\n",
       "  <thead>\n",
       "    <tr style=\"text-align: right;\">\n",
       "      <th></th>\n",
       "      <th>date</th>\n",
       "      <th>meantemp</th>\n",
       "    </tr>\n",
       "  </thead>\n",
       "  <tbody>\n",
       "    <tr>\n",
       "      <th>0</th>\n",
       "      <td>2013-01-01</td>\n",
       "      <td>10.000000</td>\n",
       "    </tr>\n",
       "    <tr>\n",
       "      <th>1</th>\n",
       "      <td>2013-01-02</td>\n",
       "      <td>7.400000</td>\n",
       "    </tr>\n",
       "    <tr>\n",
       "      <th>2</th>\n",
       "      <td>2013-01-03</td>\n",
       "      <td>7.166667</td>\n",
       "    </tr>\n",
       "    <tr>\n",
       "      <th>3</th>\n",
       "      <td>2013-01-04</td>\n",
       "      <td>8.666667</td>\n",
       "    </tr>\n",
       "    <tr>\n",
       "      <th>4</th>\n",
       "      <td>2013-01-05</td>\n",
       "      <td>6.000000</td>\n",
       "    </tr>\n",
       "  </tbody>\n",
       "</table>\n",
       "</div>"
      ],
      "text/plain": [
       "         date   meantemp\n",
       "0  2013-01-01  10.000000\n",
       "1  2013-01-02   7.400000\n",
       "2  2013-01-03   7.166667\n",
       "3  2013-01-04   8.666667\n",
       "4  2013-01-05   6.000000"
      ]
     },
     "execution_count": 79,
     "metadata": {},
     "output_type": "execute_result"
    }
   ],
   "source": [
    "df = data[['date', 'meantemp']]\n",
    "df.head(5)"
   ]
  },
  {
   "cell_type": "markdown",
   "id": "09ad2fb1",
   "metadata": {},
   "source": [
    " et la variable **meantemp**\n"
   ]
  },
  {
   "cell_type": "markdown",
   "id": "26ea2745",
   "metadata": {},
   "source": [
    "On va travailler avec le Dataframe **df**."
   ]
  },
  {
   "cell_type": "markdown",
   "id": "1f985a10",
   "metadata": {},
   "source": [
    "# Partie 1"
   ]
  },
  {
   "cell_type": "markdown",
   "id": "c54d4ea2",
   "metadata": {},
   "source": [
    " En utilisant la colonne de température moyenne; soit la meantemp, faites une analyse :\n",
    "- Time Step (La régression de la température moyenne en fonction du temps)\n",
    "- Lag Feature (La régression en fonction de l’instant n-1)"
   ]
  },
  {
   "cell_type": "code",
   "execution_count": 80,
   "id": "ab9c8717",
   "metadata": {},
   "outputs": [
    {
     "name": "stderr",
     "output_type": "stream",
     "text": [
      "C:\\Users\\MIKED\\Anaconda3\\envs\\tensorflow\\lib\\site-packages\\ipykernel_launcher.py:2: SettingWithCopyWarning: \n",
      "A value is trying to be set on a copy of a slice from a DataFrame.\n",
      "Try using .loc[row_indexer,col_indexer] = value instead\n",
      "\n",
      "See the caveats in the documentation: http://pandas.pydata.org/pandas-docs/stable/user_guide/indexing.html#returning-a-view-versus-a-copy\n",
      "  \n"
     ]
    }
   ],
   "source": [
    "# Convertir la colonne \"date\" en format de date\n",
    "df['date'] = pd.to_datetime(df['date'])"
   ]
  },
  {
   "cell_type": "markdown",
   "id": "9dcae12c",
   "metadata": {},
   "source": [
    "nous commencons avec un time plot."
   ]
  },
  {
   "cell_type": "code",
   "execution_count": 81,
   "id": "9b37b983",
   "metadata": {},
   "outputs": [
    {
     "data": {
      "text/html": [
       "<div>\n",
       "<style scoped>\n",
       "    .dataframe tbody tr th:only-of-type {\n",
       "        vertical-align: middle;\n",
       "    }\n",
       "\n",
       "    .dataframe tbody tr th {\n",
       "        vertical-align: top;\n",
       "    }\n",
       "\n",
       "    .dataframe thead th {\n",
       "        text-align: right;\n",
       "    }\n",
       "</style>\n",
       "<table border=\"1\" class=\"dataframe\">\n",
       "  <thead>\n",
       "    <tr style=\"text-align: right;\">\n",
       "      <th></th>\n",
       "      <th>meantemp</th>\n",
       "    </tr>\n",
       "    <tr>\n",
       "      <th>date</th>\n",
       "      <th></th>\n",
       "    </tr>\n",
       "  </thead>\n",
       "  <tbody>\n",
       "    <tr>\n",
       "      <th>2013-01-01</th>\n",
       "      <td>10.000000</td>\n",
       "    </tr>\n",
       "    <tr>\n",
       "      <th>2013-01-02</th>\n",
       "      <td>7.400000</td>\n",
       "    </tr>\n",
       "    <tr>\n",
       "      <th>2013-01-03</th>\n",
       "      <td>7.166667</td>\n",
       "    </tr>\n",
       "    <tr>\n",
       "      <th>2013-01-04</th>\n",
       "      <td>8.666667</td>\n",
       "    </tr>\n",
       "    <tr>\n",
       "      <th>2013-01-05</th>\n",
       "      <td>6.000000</td>\n",
       "    </tr>\n",
       "  </tbody>\n",
       "</table>\n",
       "</div>"
      ],
      "text/plain": [
       "             meantemp\n",
       "date                 \n",
       "2013-01-01  10.000000\n",
       "2013-01-02   7.400000\n",
       "2013-01-03   7.166667\n",
       "2013-01-04   8.666667\n",
       "2013-01-05   6.000000"
      ]
     },
     "execution_count": 81,
     "metadata": {},
     "output_type": "execute_result"
    }
   ],
   "source": [
    "# Convertir la colonne datetime en index (pour respecter la structure)\n",
    "df.set_index('date', inplace=True)\n",
    "df.head(5)"
   ]
  },
  {
   "cell_type": "code",
   "execution_count": 82,
   "id": "eeb1e3a5",
   "metadata": {},
   "outputs": [
    {
     "data": {
      "image/png": "[encoded data removed]",
      "text/plain": [
       "<Figure size 432x288 with 1 Axes>"
      ]
     },
     "metadata": {
      "needs_background": "light"
     },
     "output_type": "display_data"
    }
   ],
   "source": [
    "# Définir les axes\n",
    "x = df.index #c'est la date\n",
    "y = df[\"meantemp\"]\n",
    "\n",
    "# Créer le graphique\n",
    "plt.plot(x, y)\n",
    "\n",
    "# Ajouter un titre et des étiquettes pour les axes\n",
    "plt.title(\"Évolution de la température moyenne\")\n",
    "plt.xlabel(\"Date\")\n",
    "plt.ylabel(\"Température moyenne (°C)\")\n",
    "\n",
    "# Afficher le graphique\n",
    "plt.show()\n"
   ]
  },
  {
   "cell_type": "code",
   "execution_count": 83,
   "id": "1397fe04",
   "metadata": {},
   "outputs": [
    {
     "data": {
      "text/plain": [
       "array([['2013-01-01T00:00:00.000000000'],\n",
       "       ['2013-01-02T00:00:00.000000000'],\n",
       "       ['2013-01-03T00:00:00.000000000'],\n",
       "       ...,\n",
       "       ['2016-12-30T00:00:00.000000000'],\n",
       "       ['2016-12-31T00:00:00.000000000'],\n",
       "       ['2017-01-01T00:00:00.000000000']], dtype='datetime64[ns]')"
      ]
     },
     "execution_count": 83,
     "metadata": {},
     "output_type": "execute_result"
    }
   ],
   "source": [
    "df.index.values.reshape(-1, 1)"
   ]
  },
  {
   "cell_type": "markdown",
   "id": "13f46e8c",
   "metadata": {},
   "source": [
    "# Partie 2 (TODO)"
   ]
  },
  {
   "cell_type": "markdown",
   "id": "8d07dfda",
   "metadata": {},
   "source": [
    "En rappliquant tous les processus vus en cours, analyser la tendance :\n",
    "- Tracer des graphes de moyennes glissantes (moving average)\n",
    "- Utiliser les méthodes de Trend Engineering par le biais de la bibliothèque Deterministic Process afin de déterminer la tendance optimale.\n",
    "- Faire des graphe pour la tendance linéaire, quadratique, cubique. Tester pour d’autres dimensions.\n",
    "- Faire un forecast pour 15 jours futurs\n",
    "- Enlevez la composante de tendance de votre série.\n"
   ]
  },
  {
   "cell_type": "code",
   "execution_count": null,
   "id": "a8d6a5f0",
   "metadata": {},
   "outputs": [],
   "source": []
  },
  {
   "cell_type": "markdown",
   "id": "719422c5",
   "metadata": {},
   "source": [
    "# Partie 3 (TODO)"
   ]
  },
  {
   "cell_type": "markdown",
   "id": "b304e2f7",
   "metadata": {},
   "source": [
    "En réitérant les mécanismes vus en cours, étudier la saisonnalité de la série temporelle:\n",
    "- Réaliser des Seasonal Plots\n",
    "- Utiliser les Fourier Features et analyser le périodogramme\n",
    "- Utiliser les Deterministic Process avec le CalendarFourier afin de détecter la saisonnalité\n",
    "- Appliquer ces méthodes sur la variable après élimination de la composante de tendance\n",
    "- Faire un forecast pour 15 jours futurs\n",
    "- Eliminer la saisonnalité de la composante privée de tendance"
   ]
  },
  {
   "cell_type": "markdown",
   "id": "9b100676",
   "metadata": {},
   "source": [
    "# Partie 4 (TODO)"
   ]
  },
  {
   "cell_type": "markdown",
   "id": "8159c958",
   "metadata": {},
   "source": [
    "En réitérant les processus vus en cours; analyser les cycles par le biais des Lagged Features:\n",
    "- Tracer les courbes d’autocorrelation partielle\n",
    "- Identifier les corrélations avec les Lags passés\n",
    "- Analyser les cycles par le biais de Lags passés\n",
    "- Faire un forecast pour 15 jours futurs\n",
    "- Soustraire les cycles de la composante sans tendance ni saisonnalité"
   ]
  },
  {
   "cell_type": "markdown",
   "id": "ec120784",
   "metadata": {},
   "source": [
    "# Partie 5 (TODO)"
   ]
  },
  {
   "cell_type": "markdown",
   "id": "1896a7fb",
   "metadata": {},
   "source": [
    "Appliquer les processus hybrides"
   ]
  },
  {
   "cell_type": "code",
   "execution_count": null,
   "id": "d5a32c19",
   "metadata": {},
   "outputs": [],
   "source": []
  }
 ],
 "metadata": {
  "kernelspec": {
   "display_name": "Python 3",
   "language": "python",
   "name": "python3"
  },
  "language_info": {
   "codemirror_mode": {
    "name": "ipython",
    "version": 3
   },
   "file_extension": ".py",
   "mimetype": "text/x-python",
   "name": "python",
   "nbconvert_exporter": "python",
   "pygments_lexer": "ipython3",
   "version": "3.6.10"
  }
 },
 "nbformat": 4,
 "nbformat_minor": 5
}
