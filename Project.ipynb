{
 "cells": [
  {
   "cell_type": "markdown",
   "id": "7f9494dc",
   "metadata": {},
   "source": [
    "# Introduction"
   ]
  },
  {
   "cell_type": "markdown",
   "id": "0890c3ce",
   "metadata": {},
   "source": [
    "# Data Access"
   ]
  },
  {
   "cell_type": "code",
   "execution_count": 176,
   "id": "832b30fd",
   "metadata": {},
   "outputs": [],
   "source": [
    "from pathlib import Path\n",
    "import pandas as pd\n",
    "import matplotlib.pyplot as plt\n",
    "import numpy as np\n",
    "import seaborn as sns\n",
    "from sklearn.linear_model import LinearRegression"
   ]
  },
  {
   "cell_type": "markdown",
   "id": "8f397396",
   "metadata": {},
   "source": [
    "Les parties s’appliquent sur l’ensemble d’entraînement (donc **DailyDelhiClimateTrain.csv**)"
   ]
  },
  {
   "cell_type": "code",
   "execution_count": 177,
   "id": "1a0809bc",
   "metadata": {},
   "outputs": [
    {
     "data": {
      "text/html": [
       "<div>\n",
       "<style scoped>\n",
       "    .dataframe tbody tr th:only-of-type {\n",
       "        vertical-align: middle;\n",
       "    }\n",
       "\n",
       "    .dataframe tbody tr th {\n",
       "        vertical-align: top;\n",
       "    }\n",
       "\n",
       "    .dataframe thead th {\n",
       "        text-align: right;\n",
       "    }\n",
       "</style>\n",
       "<table border=\"1\" class=\"dataframe\">\n",
       "  <thead>\n",
       "    <tr style=\"text-align: right;\">\n",
       "      <th></th>\n",
       "      <th>meantemp</th>\n",
       "      <th>humidity</th>\n",
       "      <th>wind_speed</th>\n",
       "      <th>meanpressure</th>\n",
       "    </tr>\n",
       "    <tr>\n",
       "      <th>date</th>\n",
       "      <th></th>\n",
       "      <th></th>\n",
       "      <th></th>\n",
       "      <th></th>\n",
       "    </tr>\n",
       "  </thead>\n",
       "  <tbody>\n",
       "    <tr>\n",
       "      <th>2013-01-01</th>\n",
       "      <td>10.000000</td>\n",
       "      <td>84.500000</td>\n",
       "      <td>0.000000</td>\n",
       "      <td>1015.666667</td>\n",
       "    </tr>\n",
       "    <tr>\n",
       "      <th>2013-01-02</th>\n",
       "      <td>7.400000</td>\n",
       "      <td>92.000000</td>\n",
       "      <td>2.980000</td>\n",
       "      <td>1017.800000</td>\n",
       "    </tr>\n",
       "    <tr>\n",
       "      <th>2013-01-03</th>\n",
       "      <td>7.166667</td>\n",
       "      <td>87.000000</td>\n",
       "      <td>4.633333</td>\n",
       "      <td>1018.666667</td>\n",
       "    </tr>\n",
       "    <tr>\n",
       "      <th>2013-01-04</th>\n",
       "      <td>8.666667</td>\n",
       "      <td>71.333333</td>\n",
       "      <td>1.233333</td>\n",
       "      <td>1017.166667</td>\n",
       "    </tr>\n",
       "    <tr>\n",
       "      <th>2013-01-05</th>\n",
       "      <td>6.000000</td>\n",
       "      <td>86.833333</td>\n",
       "      <td>3.700000</td>\n",
       "      <td>1016.500000</td>\n",
       "    </tr>\n",
       "    <tr>\n",
       "      <th>...</th>\n",
       "      <td>...</td>\n",
       "      <td>...</td>\n",
       "      <td>...</td>\n",
       "      <td>...</td>\n",
       "    </tr>\n",
       "    <tr>\n",
       "      <th>2016-12-28</th>\n",
       "      <td>17.217391</td>\n",
       "      <td>68.043478</td>\n",
       "      <td>3.547826</td>\n",
       "      <td>1015.565217</td>\n",
       "    </tr>\n",
       "    <tr>\n",
       "      <th>2016-12-29</th>\n",
       "      <td>15.238095</td>\n",
       "      <td>87.857143</td>\n",
       "      <td>6.000000</td>\n",
       "      <td>1016.904762</td>\n",
       "    </tr>\n",
       "    <tr>\n",
       "      <th>2016-12-30</th>\n",
       "      <td>14.095238</td>\n",
       "      <td>89.666667</td>\n",
       "      <td>6.266667</td>\n",
       "      <td>1017.904762</td>\n",
       "    </tr>\n",
       "    <tr>\n",
       "      <th>2016-12-31</th>\n",
       "      <td>15.052632</td>\n",
       "      <td>87.000000</td>\n",
       "      <td>7.325000</td>\n",
       "      <td>1016.100000</td>\n",
       "    </tr>\n",
       "    <tr>\n",
       "      <th>2017-01-01</th>\n",
       "      <td>10.000000</td>\n",
       "      <td>100.000000</td>\n",
       "      <td>0.000000</td>\n",
       "      <td>1016.000000</td>\n",
       "    </tr>\n",
       "  </tbody>\n",
       "</table>\n",
       "<p>1462 rows × 4 columns</p>\n",
       "</div>"
      ],
      "text/plain": [
       "             meantemp    humidity  wind_speed  meanpressure\n",
       "date                                                       \n",
       "2013-01-01  10.000000   84.500000    0.000000   1015.666667\n",
       "2013-01-02   7.400000   92.000000    2.980000   1017.800000\n",
       "2013-01-03   7.166667   87.000000    4.633333   1018.666667\n",
       "2013-01-04   8.666667   71.333333    1.233333   1017.166667\n",
       "2013-01-05   6.000000   86.833333    3.700000   1016.500000\n",
       "...               ...         ...         ...           ...\n",
       "2016-12-28  17.217391   68.043478    3.547826   1015.565217\n",
       "2016-12-29  15.238095   87.857143    6.000000   1016.904762\n",
       "2016-12-30  14.095238   89.666667    6.266667   1017.904762\n",
       "2016-12-31  15.052632   87.000000    7.325000   1016.100000\n",
       "2017-01-01  10.000000  100.000000    0.000000   1016.000000\n",
       "\n",
       "[1462 rows x 4 columns]"
      ]
     },
     "execution_count": 177,
     "metadata": {},
     "output_type": "execute_result"
    }
   ],
   "source": [
    "data_dir=Path(\"./Data/\")\n",
    "data=pd.read_csv( \n",
    "    data_dir / \"DailyDelhiClimateTrain.csv\",\n",
    "    index_col =\"date\", #on set la colonne data entant que index.\n",
    ")\n",
    "data"
   ]
  },
  {
   "cell_type": "code",
   "execution_count": 178,
   "id": "fa68baa8",
   "metadata": {},
   "outputs": [
    {
     "data": {
      "text/plain": [
       "meantemp        float64\n",
       "humidity        float64\n",
       "wind_speed      float64\n",
       "meanpressure    float64\n",
       "dtype: object"
      ]
     },
     "execution_count": 178,
     "metadata": {},
     "output_type": "execute_result"
    }
   ],
   "source": [
    "#verifier les types des données:\n",
    "data.dtypes"
   ]
  },
  {
   "cell_type": "markdown",
   "id": "5873910b",
   "metadata": {},
   "source": [
    "nous allons convertir la colonne date, en format de date"
   ]
  },
  {
   "cell_type": "code",
   "execution_count": 179,
   "id": "a2d1bbb3",
   "metadata": {},
   "outputs": [
    {
     "data": {
      "text/plain": [
       "(1462, 4)"
      ]
     },
     "execution_count": 179,
     "metadata": {},
     "output_type": "execute_result"
    }
   ],
   "source": [
    "#verifier que le dataset ne contient pas de contenu vide.\n",
    "data.dropna().shape"
   ]
  },
  {
   "cell_type": "markdown",
   "id": "e7898cba",
   "metadata": {},
   "source": [
    " et la variable **meantemp**\n"
   ]
  },
  {
   "cell_type": "markdown",
   "id": "a42970f9",
   "metadata": {},
   "source": [
    "On va travailler avec le Dataframe **df**."
   ]
  },
  {
   "cell_type": "code",
   "execution_count": 180,
   "id": "f15b68e5",
   "metadata": {},
   "outputs": [
    {
     "data": {
      "text/html": [
       "<div>\n",
       "<style scoped>\n",
       "    .dataframe tbody tr th:only-of-type {\n",
       "        vertical-align: middle;\n",
       "    }\n",
       "\n",
       "    .dataframe tbody tr th {\n",
       "        vertical-align: top;\n",
       "    }\n",
       "\n",
       "    .dataframe thead th {\n",
       "        text-align: right;\n",
       "    }\n",
       "</style>\n",
       "<table border=\"1\" class=\"dataframe\">\n",
       "  <thead>\n",
       "    <tr style=\"text-align: right;\">\n",
       "      <th></th>\n",
       "      <th>meantemp</th>\n",
       "    </tr>\n",
       "    <tr>\n",
       "      <th>date</th>\n",
       "      <th></th>\n",
       "    </tr>\n",
       "  </thead>\n",
       "  <tbody>\n",
       "    <tr>\n",
       "      <th>2013-01-01</th>\n",
       "      <td>10.000000</td>\n",
       "    </tr>\n",
       "    <tr>\n",
       "      <th>2013-01-02</th>\n",
       "      <td>7.400000</td>\n",
       "    </tr>\n",
       "    <tr>\n",
       "      <th>2013-01-03</th>\n",
       "      <td>7.166667</td>\n",
       "    </tr>\n",
       "    <tr>\n",
       "      <th>2013-01-04</th>\n",
       "      <td>8.666667</td>\n",
       "    </tr>\n",
       "    <tr>\n",
       "      <th>2013-01-05</th>\n",
       "      <td>6.000000</td>\n",
       "    </tr>\n",
       "  </tbody>\n",
       "</table>\n",
       "</div>"
      ],
      "text/plain": [
       "             meantemp\n",
       "date                 \n",
       "2013-01-01  10.000000\n",
       "2013-01-02   7.400000\n",
       "2013-01-03   7.166667\n",
       "2013-01-04   8.666667\n",
       "2013-01-05   6.000000"
      ]
     },
     "execution_count": 180,
     "metadata": {},
     "output_type": "execute_result"
    }
   ],
   "source": [
    "df=data[[\"meantemp\"]]\n",
    "df.head(5)"
   ]
  },
  {
   "cell_type": "markdown",
   "id": "c76aa42f",
   "metadata": {},
   "source": [
    "# Partie 1"
   ]
  },
  {
   "cell_type": "markdown",
   "id": "e371b57e",
   "metadata": {},
   "source": [
    " En utilisant la colonne de température moyenne; soit la meantemp, faites une analyse :\n",
    "- Time Step (La régression de la température moyenne en fonction du temps)"
   ]
  },
  {
   "cell_type": "code",
   "execution_count": 181,
   "id": "308af475",
   "metadata": {},
   "outputs": [
    {
     "name": "stderr",
     "output_type": "stream",
     "text": [
      "C:\\Users\\MIKED\\Anaconda3\\envs\\tensorflow\\lib\\site-packages\\ipykernel_launcher.py:3: SettingWithCopyWarning: \n",
      "A value is trying to be set on a copy of a slice from a DataFrame.\n",
      "Try using .loc[row_indexer,col_indexer] = value instead\n",
      "\n",
      "See the caveats in the documentation: http://pandas.pydata.org/pandas-docs/stable/user_guide/indexing.html#returning-a-view-versus-a-copy\n",
      "  This is separate from the ipykernel package so we can avoid doing imports until\n"
     ]
    },
    {
     "data": {
      "text/html": [
       "<div>\n",
       "<style scoped>\n",
       "    .dataframe tbody tr th:only-of-type {\n",
       "        vertical-align: middle;\n",
       "    }\n",
       "\n",
       "    .dataframe tbody tr th {\n",
       "        vertical-align: top;\n",
       "    }\n",
       "\n",
       "    .dataframe thead th {\n",
       "        text-align: right;\n",
       "    }\n",
       "</style>\n",
       "<table border=\"1\" class=\"dataframe\">\n",
       "  <thead>\n",
       "    <tr style=\"text-align: right;\">\n",
       "      <th></th>\n",
       "      <th>meantemp</th>\n",
       "      <th>Time</th>\n",
       "    </tr>\n",
       "    <tr>\n",
       "      <th>date</th>\n",
       "      <th></th>\n",
       "      <th></th>\n",
       "    </tr>\n",
       "  </thead>\n",
       "  <tbody>\n",
       "    <tr>\n",
       "      <th>2013-01-01</th>\n",
       "      <td>10.000000</td>\n",
       "      <td>0</td>\n",
       "    </tr>\n",
       "    <tr>\n",
       "      <th>2013-01-02</th>\n",
       "      <td>7.400000</td>\n",
       "      <td>1</td>\n",
       "    </tr>\n",
       "    <tr>\n",
       "      <th>2013-01-03</th>\n",
       "      <td>7.166667</td>\n",
       "      <td>2</td>\n",
       "    </tr>\n",
       "    <tr>\n",
       "      <th>2013-01-04</th>\n",
       "      <td>8.666667</td>\n",
       "      <td>3</td>\n",
       "    </tr>\n",
       "    <tr>\n",
       "      <th>2013-01-05</th>\n",
       "      <td>6.000000</td>\n",
       "      <td>4</td>\n",
       "    </tr>\n",
       "  </tbody>\n",
       "</table>\n",
       "</div>"
      ],
      "text/plain": [
       "             meantemp  Time\n",
       "date                       \n",
       "2013-01-01  10.000000     0\n",
       "2013-01-02   7.400000     1\n",
       "2013-01-03   7.166667     2\n",
       "2013-01-04   8.666667     3\n",
       "2013-01-05   6.000000     4"
      ]
     },
     "execution_count": 181,
     "metadata": {},
     "output_type": "execute_result"
    }
   ],
   "source": [
    "#nous créons la colonne time en se basant sur les index de date, afin de simplifier la représentation.\n",
    "#ainsi que la regression.\n",
    "df[\"Time\"]=np.arange(len(df.index))\n",
    "df.head(5)"
   ]
  },
  {
   "cell_type": "code",
   "execution_count": 194,
   "id": "70ed6c1d",
   "metadata": {},
   "outputs": [
    {
     "data": {
      "image/png": "[encoded data removed]",
      "text/plain": [
       "<Figure size 432x288 with 1 Axes>"
      ]
     },
     "metadata": {
      "needs_background": "light"
     },
     "output_type": "display_data"
    }
   ],
   "source": [
    "fig, ax = plt.subplots()\n",
    "ax.plot('Time', 'meantemp', data=df, color='0.75') # on set la couleur des données pour mieux les visualiser\n",
    "ax = sns.regplot(x='Time', y='meantemp', data=df) # on applique la ligne de regression dessus.\n",
    "ax.set_title('Time Plot of mean Temperature'); # on set le titre."
   ]
  },
  {
   "cell_type": "markdown",
   "id": "939236af",
   "metadata": {},
   "source": [
    "- Lag Feature (La régression en fonction de l’instant n-1)"
   ]
  },
  {
   "cell_type": "code",
   "execution_count": 195,
   "id": "5aebad2b",
   "metadata": {},
   "outputs": [
    {
     "name": "stderr",
     "output_type": "stream",
     "text": [
      "C:\\Users\\MIKED\\Anaconda3\\envs\\tensorflow\\lib\\site-packages\\ipykernel_launcher.py:2: SettingWithCopyWarning: \n",
      "A value is trying to be set on a copy of a slice from a DataFrame.\n",
      "Try using .loc[row_indexer,col_indexer] = value instead\n",
      "\n",
      "See the caveats in the documentation: http://pandas.pydata.org/pandas-docs/stable/user_guide/indexing.html#returning-a-view-versus-a-copy\n",
      "  \n"
     ]
    },
    {
     "data": {
      "text/html": [
       "<div>\n",
       "<style scoped>\n",
       "    .dataframe tbody tr th:only-of-type {\n",
       "        vertical-align: middle;\n",
       "    }\n",
       "\n",
       "    .dataframe tbody tr th {\n",
       "        vertical-align: top;\n",
       "    }\n",
       "\n",
       "    .dataframe thead th {\n",
       "        text-align: right;\n",
       "    }\n",
       "</style>\n",
       "<table border=\"1\" class=\"dataframe\">\n",
       "  <thead>\n",
       "    <tr style=\"text-align: right;\">\n",
       "      <th></th>\n",
       "      <th>meantemp</th>\n",
       "      <th>Time</th>\n",
       "      <th>Lag_1</th>\n",
       "    </tr>\n",
       "    <tr>\n",
       "      <th>date</th>\n",
       "      <th></th>\n",
       "      <th></th>\n",
       "      <th></th>\n",
       "    </tr>\n",
       "  </thead>\n",
       "  <tbody>\n",
       "    <tr>\n",
       "      <th>2013-01-01</th>\n",
       "      <td>10.000000</td>\n",
       "      <td>0</td>\n",
       "      <td>NaN</td>\n",
       "    </tr>\n",
       "    <tr>\n",
       "      <th>2013-01-02</th>\n",
       "      <td>7.400000</td>\n",
       "      <td>1</td>\n",
       "      <td>10.000000</td>\n",
       "    </tr>\n",
       "    <tr>\n",
       "      <th>2013-01-03</th>\n",
       "      <td>7.166667</td>\n",
       "      <td>2</td>\n",
       "      <td>7.400000</td>\n",
       "    </tr>\n",
       "    <tr>\n",
       "      <th>2013-01-04</th>\n",
       "      <td>8.666667</td>\n",
       "      <td>3</td>\n",
       "      <td>7.166667</td>\n",
       "    </tr>\n",
       "    <tr>\n",
       "      <th>2013-01-05</th>\n",
       "      <td>6.000000</td>\n",
       "      <td>4</td>\n",
       "      <td>8.666667</td>\n",
       "    </tr>\n",
       "  </tbody>\n",
       "</table>\n",
       "</div>"
      ],
      "text/plain": [
       "             meantemp  Time      Lag_1\n",
       "date                                  \n",
       "2013-01-01  10.000000     0        NaN\n",
       "2013-01-02   7.400000     1  10.000000\n",
       "2013-01-03   7.166667     2   7.400000\n",
       "2013-01-04   8.666667     3   7.166667\n",
       "2013-01-05   6.000000     4   8.666667"
      ]
     },
     "execution_count": 195,
     "metadata": {},
     "output_type": "execute_result"
    }
   ],
   "source": [
    "# on creer le shift de la colonne Lag feature\n",
    "df[\"Lag_1\"]=df[\"meantemp\"].shift(1)\n",
    "df.head(5)"
   ]
  },
  {
   "cell_type": "code",
   "execution_count": 198,
   "id": "bc974c59",
   "metadata": {},
   "outputs": [
    {
     "data": {
      "image/png": "[encoded data removed]",
      "text/plain": [
       "<Figure size 792x396 with 2 Axes>"
      ]
     },
     "metadata": {
      "needs_background": "light"
     },
     "output_type": "display_data"
    }
   ],
   "source": [
    "fig, (ax1, ax2) = plt.subplots(2, 1, figsize=(11, 5.5), sharex=True)\n",
    "ax1.plot(df['meantemp'])\n",
    "ax1.set_title('Series 1')\n",
    "ax2.plot(df['Lag_1'])\n",
    "ax2.set_title('Series 2');"
   ]
  },
  {
   "cell_type": "markdown",
   "id": "8b10e640",
   "metadata": {},
   "source": [
    "# Partie 2 (TODO)"
   ]
  },
  {
   "cell_type": "markdown",
   "id": "5a0b701c",
   "metadata": {},
   "source": [
    "En rappliquant tous les processus vus en cours, analyser la tendance :\n",
    "- Tracer des graphes de moyennes glissantes (moving average)\n",
    "- Utiliser les méthodes de Trend Engineering par le biais de la bibliothèque Deterministic Process afin de déterminer la tendance optimale.\n",
    "- Faire des graphe pour la tendance linéaire, quadratique, cubique. Tester pour d’autres dimensions.\n",
    "- Faire un forecast pour 15 jours futurs\n",
    "- Enlevez la composante de tendance de votre série.\n"
   ]
  },
  {
   "cell_type": "code",
   "execution_count": null,
   "id": "b65320eb",
   "metadata": {},
   "outputs": [],
   "source": []
  },
  {
   "cell_type": "markdown",
   "id": "f3ebf3a8",
   "metadata": {},
   "source": [
    "# Partie 3 (TODO)"
   ]
  },
  {
   "cell_type": "markdown",
   "id": "e4fbc6be",
   "metadata": {},
   "source": [
    "En réitérant les mécanismes vus en cours, étudier la saisonnalité de la série temporelle:\n",
    "- Réaliser des Seasonal Plots\n",
    "- Utiliser les Fourier Features et analyser le périodogramme\n",
    "- Utiliser les Deterministic Process avec le CalendarFourier afin de détecter la saisonnalité\n",
    "- Appliquer ces méthodes sur la variable après élimination de la composante de tendance\n",
    "- Faire un forecast pour 15 jours futurs\n",
    "- Eliminer la saisonnalité de la composante privée de tendance"
   ]
  },
  {
   "cell_type": "markdown",
   "id": "50e28c06",
   "metadata": {},
   "source": [
    "# Partie 4 (TODO)"
   ]
  },
  {
   "cell_type": "markdown",
   "id": "10dbe719",
   "metadata": {},
   "source": [
    "En réitérant les processus vus en cours; analyser les cycles par le biais des Lagged Features:\n",
    "- Tracer les courbes d’autocorrelation partielle\n",
    "- Identifier les corrélations avec les Lags passés\n",
    "- Analyser les cycles par le biais de Lags passés\n",
    "- Faire un forecast pour 15 jours futurs\n",
    "- Soustraire les cycles de la composante sans tendance ni saisonnalité"
   ]
  },
  {
   "cell_type": "markdown",
   "id": "639fbbee",
   "metadata": {},
   "source": [
    "# Partie 5 (TODO)"
   ]
  },
  {
   "cell_type": "markdown",
   "id": "fb85362d",
   "metadata": {},
   "source": [
    "Appliquer les processus hybrides"
   ]
  },
  {
   "cell_type": "code",
   "execution_count": null,
   "id": "af9bd91f",
   "metadata": {},
   "outputs": [],
   "source": []
  }
 ],
 "metadata": {
  "kernelspec": {
   "display_name": "Python 3",
   "language": "python",
   "name": "python3"
  },
  "language_info": {
   "codemirror_mode": {
    "name": "ipython",
    "version": 3
   },
   "file_extension": ".py",
   "mimetype": "text/x-python",
   "name": "python",
   "nbconvert_exporter": "python",
   "pygments_lexer": "ipython3",
   "version": "3.6.10"
  }
 },
 "nbformat": 4,
 "nbformat_minor": 5
}
